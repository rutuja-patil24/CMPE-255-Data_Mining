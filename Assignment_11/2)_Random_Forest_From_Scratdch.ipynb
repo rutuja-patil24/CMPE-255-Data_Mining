{
  "nbformat": 4,
  "nbformat_minor": 0,
  "metadata": {
    "colab": {
      "provenance": [],
      "authorship_tag": "ABX9TyPfeijdEG7GoayV4zSCOCT/",
      "include_colab_link": true
    },
    "kernelspec": {
      "name": "python3",
      "display_name": "Python 3"
    },
    "language_info": {
      "name": "python"
    }
  },
  "cells": [
    {
      "cell_type": "markdown",
      "metadata": {
        "id": "view-in-github",
        "colab_type": "text"
      },
      "source": [
        "<a href=\"https://colab.research.google.com/github/rutuja-patil24/CMPE-255-Data_Mining/blob/main/Assignment_11/2)_Random_Forest_From_Scratdch.ipynb\" target=\"_parent\"><img src=\"https://colab.research.google.com/assets/colab-badge.svg\" alt=\"Open In Colab\"/></a>"
      ]
    },
    {
      "cell_type": "code",
      "source": [
        "import numpy as np\n",
        "from sklearn.tree import DecisionTreeClassifier\n",
        "from sklearn.metrics import accuracy_score\n",
        "from collections import Counter"
      ],
      "metadata": {
        "id": "Kl3efqTd4qvf"
      },
      "execution_count": 6,
      "outputs": []
    },
    {
      "cell_type": "code",
      "execution_count": 7,
      "metadata": {
        "id": "WyTuvTae4PiK"
      },
      "outputs": [],
      "source": [
        "class RandomForestFromScratch:\n",
        "    def __init__(self, n_estimators=10, max_depth=None, max_features=None):\n",
        "        self.n_estimators = n_estimators\n",
        "        self.max_depth = max_depth\n",
        "        self.max_features = max_features\n",
        "        self.trees = []\n",
        "\n",
        "    def bootstrap_sample(self, X, y):\n",
        "        n_samples = X.shape[0]\n",
        "        indices = np.random.choice(n_samples, n_samples, replace=True)\n",
        "        return X[indices], y[indices]\n",
        "\n",
        "    def fit(self, X, y):\n",
        "        self.trees = []\n",
        "        for _ in range(self.n_estimators):\n",
        "            # Create a bootstrap sample\n",
        "            X_sample, y_sample = self.bootstrap_sample(X, y)\n",
        "\n",
        "            # Randomly select features if max_features is specified\n",
        "            if self.max_features:\n",
        "                feature_indices = np.random.choice(\n",
        "                    X.shape[1], self.max_features, replace=False\n",
        "                )\n",
        "                X_sample = X_sample[:, feature_indices]\n",
        "            else:\n",
        "                feature_indices = np.arange(X.shape[1])\n",
        "\n",
        "            # Train a decision tree\n",
        "            tree = DecisionTreeClassifier(max_depth=self.max_depth)\n",
        "            tree.fit(X_sample, y_sample)\n",
        "            self.trees.append((tree, feature_indices))\n",
        "\n",
        "    def predict(self, X):\n",
        "        # Aggregate predictions from all trees\n",
        "        tree_predictions = []\n",
        "        for tree, feature_indices in self.trees:\n",
        "            tree_predictions.append(tree.predict(X[:, feature_indices]))\n",
        "\n",
        "        # Transpose and vote for majority class\n",
        "        tree_predictions = np.array(tree_predictions).T\n",
        "        return np.array([Counter(row).most_common(1)[0][0] for row in tree_predictions])\n"
      ]
    },
    {
      "cell_type": "code",
      "source": [
        "from sklearn.datasets import make_classification\n",
        "from sklearn.model_selection import train_test_split"
      ],
      "metadata": {
        "id": "Vq9vfIi94wiT"
      },
      "execution_count": 8,
      "outputs": []
    },
    {
      "cell_type": "code",
      "source": [
        "# Generate synthetic data\n",
        "X, y = make_classification(n_samples=1000, n_features=10, n_informative=5, random_state=42)\n",
        "X_train, X_test, y_train, y_test = train_test_split(X, y, test_size=0.3, random_state=42)\n"
      ],
      "metadata": {
        "id": "thmFyCGa4ZjJ"
      },
      "execution_count": 9,
      "outputs": []
    },
    {
      "cell_type": "code",
      "source": [
        "# Train the custom random forest\n",
        "rf = RandomForestFromScratch(n_estimators=20, max_depth=5, max_features=5)\n",
        "rf.fit(X_train, y_train)"
      ],
      "metadata": {
        "id": "bXsA9uQ84zC4"
      },
      "execution_count": 10,
      "outputs": []
    },
    {
      "cell_type": "code",
      "source": [
        "# Predict and evaluate\n",
        "y_pred_train = rf.predict(X_train)\n",
        "y_pred_test = rf.predict(X_test)"
      ],
      "metadata": {
        "id": "xSeQQi5w42GX"
      },
      "execution_count": 11,
      "outputs": []
    },
    {
      "cell_type": "code",
      "source": [
        "print(\"Train Accuracy:\", accuracy_score(y_train, y_pred_train))\n",
        "print(\"Test Accuracy:\", accuracy_score(y_test, y_pred_test))"
      ],
      "metadata": {
        "colab": {
          "base_uri": "https://localhost:8080/"
        },
        "id": "jcYDWY594b9j",
        "outputId": "bb27c859-dccf-4bbb-cc81-f7c72a8b1c73"
      },
      "execution_count": 12,
      "outputs": [
        {
          "output_type": "stream",
          "name": "stdout",
          "text": [
            "Train Accuracy: 0.9628571428571429\n",
            "Test Accuracy: 0.9066666666666666\n"
          ]
        }
      ]
    },
    {
      "cell_type": "code",
      "source": [
        "import matplotlib.pyplot as plt\n",
        "from sklearn.metrics import confusion_matrix, ConfusionMatrixDisplay\n",
        "\n",
        "# Confusion Matrix\n",
        "conf_matrix = confusion_matrix(y_test, y_pred_test)\n",
        "disp = ConfusionMatrixDisplay(confusion_matrix=conf_matrix, display_labels=[0, 1])\n",
        "disp.plot(cmap=plt.cm.Blues)\n",
        "plt.title(\"Confusion Matrix for Random Forest\")\n",
        "plt.show()\n"
      ],
      "metadata": {
        "colab": {
          "base_uri": "https://localhost:8080/",
          "height": 472
        },
        "id": "cyA1EM4I4gG3",
        "outputId": "b0e003fe-9c82-4e86-f5e6-f96b069c2bbf"
      },
      "execution_count": 4,
      "outputs": [
        {
          "output_type": "display_data",
          "data": {
            "text/plain": [
              "<Figure size 640x480 with 2 Axes>"
            ],
            "image/png": "[encoded data removed]"
          },
          "metadata": {}
        }
      ]
    },
    {
      "cell_type": "code",
      "source": [
        "# Save predictions\n",
        "import pandas as pd\n",
        "\n",
        "predictions_df = pd.DataFrame({\n",
        "    \"Actual\": y_test,\n",
        "    \"Predicted\": y_pred_test\n",
        "})\n",
        "predictions_df.to_csv(\"random_forest_predictions.csv\", index=False)\n",
        "\n",
        "# Download the file\n",
        "from google.colab import files\n",
        "files.download(\"random_forest_predictions.csv\")\n"
      ],
      "metadata": {
        "colab": {
          "base_uri": "https://localhost:8080/",
          "height": 17
        },
        "id": "OFbbDewg4maG",
        "outputId": "6a5484af-fc9f-4cba-d421-0fefd1e398f2"
      },
      "execution_count": 5,
      "outputs": [
        {
          "output_type": "display_data",
          "data": {
            "text/plain": [
              "<IPython.core.display.Javascript object>"
            ],
            "application/javascript": [
              "\n",
              "    async function download(id, filename, size) {\n",
              "      if (!google.colab.kernel.accessAllowed) {\n",
              "        return;\n",
              "      }\n",
              "      const div = document.createElement('div');\n",
              "      const label = document.createElement('label');\n",
              "      label.textContent = `Downloading \"${filename}\": `;\n",
              "      div.appendChild(label);\n",
              "      const progress = document.createElement('progress');\n",
              "      progress.max = size;\n",
              "      div.appendChild(progress);\n",
              "      document.body.appendChild(div);\n",
              "\n",
              "      const buffers = [];\n",
              "      let downloaded = 0;\n",
              "\n",
              "      const channel = await google.colab.kernel.comms.open(id);\n",
              "      // Send a message to notify the kernel that we're ready.\n",
              "      channel.send({})\n",
              "\n",
              "      for await (const message of channel.messages) {\n",
              "        // Send a message to notify the kernel that we're ready.\n",
              "        channel.send({})\n",
              "        if (message.buffers) {\n",
              "          for (const buffer of message.buffers) {\n",
              "            buffers.push(buffer);\n",
              "            downloaded += buffer.byteLength;\n",
              "            progress.value = downloaded;\n",
              "          }\n",
              "        }\n",
              "      }\n",
              "      const blob = new Blob(buffers, {type: 'application/binary'});\n",
              "      const a = document.createElement('a');\n",
              "      a.href = window.URL.createObjectURL(blob);\n",
              "      a.download = filename;\n",
              "      div.appendChild(a);\n",
              "      a.click();\n",
              "      div.remove();\n",
              "    }\n",
              "  "
            ]
          },
          "metadata": {}
        },
        {
          "output_type": "display_data",
          "data": {
            "text/plain": [
              "<IPython.core.display.Javascript object>"
            ],
            "application/javascript": [
              "download(\"download_7a15ac94-4f52-4f02-970f-916627907fea\", \"random_forest_predictions.csv\", 1217)"
            ]
          },
          "metadata": {}
        }
      ]
    }
  ]
}